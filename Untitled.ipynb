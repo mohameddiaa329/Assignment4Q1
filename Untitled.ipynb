{
 "cells": [
  {
   "cell_type": "markdown",
   "metadata": {},
   "source": [
    "1.1"
   ]
  },
  {
   "cell_type": "code",
   "execution_count": 30,
   "metadata": {},
   "outputs": [],
   "source": [
    "my_file=open('test.txt','w')\n",
    "for y in range(1,6):\n",
    "    my_file.write(\"Hello python \\n\")\n",
    "my_file=open('test.txt','r')\n",
    "my_file.read()\n",
    "my_file.close()"
   ]
  },
  {
   "cell_type": "markdown",
   "metadata": {},
   "source": [
    "1.2"
   ]
  },
  {
   "cell_type": "code",
   "execution_count": 31,
   "metadata": {},
   "outputs": [
    {
     "name": "stdout",
     "output_type": "stream",
     "text": [
      "Hello python \n",
      "Hello python \n",
      "Hello python \n",
      "Hello python \n",
      "Hello python \n",
      "HELLO PYTHON \n",
      "HELLO PYTHON \n",
      "HELLO PYTHON \n",
      "HELLO PYTHON \n",
      "HELLO PYTHON \n",
      "\n"
     ]
    }
   ],
   "source": [
    "my_file=open('test.txt','r')\n",
    "for x in my_file.read():\n",
    "    y = x.upper()\n",
    "    my_file = open('test.txt', 'a')\n",
    "    my_file.write(y)\n",
    "my_file=open('test.txt','r')\n",
    "print(my_file.read( ))"
   ]
  },
  {
   "cell_type": "markdown",
   "metadata": {},
   "source": [
    "1.3"
   ]
  },
  {
   "cell_type": "code",
   "execution_count": 32,
   "metadata": {},
   "outputs": [
    {
     "name": "stdout",
     "output_type": "stream",
     "text": [
      "14\n",
      "Hello python \n",
      "Hello python \n",
      "Hello python \n",
      "Hello python \n",
      "Hello python \n",
      "HELLO PYTHON \n",
      "HELLO PYTHON \n",
      "HELLO PYTHON \n",
      "HELLO PYTHON \n",
      "HELLO PYTHON \n",
      "HELLO PYTHON \n",
      "\n"
     ]
    }
   ],
   "source": [
    "\n",
    "my_file=open('test.txt','r')\n",
    "lines=my_file.readlines()\n",
    "y=lines[3].upper()\n",
    "my_file=open('test.txt','a')\n",
    "print(my_file.write(y))\n",
    "my_file=open('test.txt','r')\n",
    "print(my_file.read( ))\n"
   ]
  },
  {
   "cell_type": "markdown",
   "metadata": {},
   "source": [
    "1.4"
   ]
  },
  {
   "cell_type": "code",
   "execution_count": 33,
   "metadata": {},
   "outputs": [
    {
     "name": "stdout",
     "output_type": "stream",
     "text": [
      "I Love python\n",
      "\n",
      "Hello python \n",
      "\n",
      "Hello python \n",
      "\n",
      "Hello python \n",
      "\n",
      "Hello python \n",
      "\n",
      "Hello python \n",
      "\n",
      "HELLO PYTHON \n",
      "\n",
      "HELLO PYTHON \n",
      "\n",
      "HELLO PYTHON \n",
      "\n",
      "HELLO PYTHON \n",
      "\n",
      "HELLO PYTHON \n",
      "\n",
      "HELLO PYTHON \n",
      "\n"
     ]
    }
   ],
   "source": [
    "with open('test.txt', 'a+') as my_file:\n",
    "    my_file.seek(0)\n",
    "    print('I Love python\\n')\n",
    "    for p in my_file.readlines():\n",
    "        print(p)"
   ]
  }
 ],
 "metadata": {
  "kernelspec": {
   "display_name": "Python 3",
   "language": "python",
   "name": "python3"
  },
  "language_info": {
   "codemirror_mode": {
    "name": "ipython",
    "version": 3
   },
   "file_extension": ".py",
   "mimetype": "text/x-python",
   "name": "python",
   "nbconvert_exporter": "python",
   "pygments_lexer": "ipython3",
   "version": "3.7.6"
  }
 },
 "nbformat": 4,
 "nbformat_minor": 4
}
